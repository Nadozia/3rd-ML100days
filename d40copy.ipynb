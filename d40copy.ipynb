{
 "cells": [
  {
   "cell_type": "code",
   "execution_count": 4,
   "metadata": {},
   "outputs": [],
   "source": [
    "import numpy as np\n",
    "import matplotlib.pyplot as plt\n",
    "from sklearn import datasets, linear_model\n",
    "from sklearn.model_selection import train_test_split\n",
    "from sklearn.metrics import mean_squared_error, r2_score"
   ]
  },
  {
   "cell_type": "code",
   "execution_count": 6,
   "metadata": {},
   "outputs": [
    {
     "name": "stdout",
     "output_type": "stream",
     "text": [
      "[  21.87305007 -274.6808343   482.09398574  349.98046759 -999.67647128\n",
      "  595.97095717  228.89167277  329.23064709  778.20654197   74.53591743]\n"
     ]
    }
   ],
   "source": [
    "diabetes = datasets.load_diabetes()\n",
    "X_train, X_test, Y_train, Y_test = train_test_split(diabetes.data, diabetes.target, test_size = 0.1, random_state = 4)\n",
    "LinRegr = linear_model.LinearRegression()\n",
    "LinRegr.fit(X_train, Y_train)\n",
    "Y_pred = LinRegr.predict(X_test)\n",
    "\n",
    "print(LinRegr.coef_)"
   ]
  },
  {
   "cell_type": "code",
   "execution_count": 7,
   "metadata": {},
   "outputs": [
    {
     "name": "stdout",
     "output_type": "stream",
     "text": [
      "MSE: 2840.791400369432\n"
     ]
    }
   ],
   "source": [
    "print('MSE:', mean_squared_error(Y_test, Y_pred))"
   ]
  },
  {
   "cell_type": "markdown",
   "metadata": {},
   "source": [
    "## LASSO"
   ]
  },
  {
   "cell_type": "code",
   "execution_count": 14,
   "metadata": {},
   "outputs": [],
   "source": [
    "Lasso = linear_model.Lasso(alpha = 0.2)\n",
    "Lasso.fit(X_train, Y_train)\n",
    "Y_pred = Lasso.predict(X_test)\n"
   ]
  },
  {
   "cell_type": "code",
   "execution_count": 15,
   "metadata": {},
   "outputs": [
    {
     "name": "stdout",
     "output_type": "stream",
     "text": [
      "[   0.         -102.68352998  474.59837296  269.69611091   -0.\n",
      "   -0.         -201.3994291     0.          440.51577799   12.80936069]\n"
     ]
    }
   ],
   "source": [
    "print(Lasso.coef_)"
   ]
  },
  {
   "cell_type": "code",
   "execution_count": 16,
   "metadata": {},
   "outputs": [
    {
     "data": {
      "text/plain": [
       "2513.6849115924374"
      ]
     },
     "execution_count": 16,
     "metadata": {},
     "output_type": "execute_result"
    }
   ],
   "source": [
    "mean_squared_error(Y_test, Y_pred)"
   ]
  },
  {
   "cell_type": "markdown",
   "metadata": {},
   "source": [
    "## Ridge"
   ]
  },
  {
   "cell_type": "code",
   "execution_count": 24,
   "metadata": {},
   "outputs": [
    {
     "data": {
      "text/plain": [
       "array([  37.08745798, -175.93194406,  398.75453773,  280.09166714,\n",
       "        -39.2997111 ,  -68.87331336, -185.39255521,  156.77469227,\n",
       "        349.25117774,  107.66055713])"
      ]
     },
     "execution_count": 24,
     "metadata": {},
     "output_type": "execute_result"
    }
   ],
   "source": [
    "Ridge = linear_model.Ridge(alpha =0.3)\n",
    "Ridge.fit(X_train, Y_train)\n",
    "Y_pred = Ridge.predict(X_test)\n",
    "\n",
    "Ridge.coef_"
   ]
  },
  {
   "cell_type": "code",
   "execution_count": 20,
   "metadata": {},
   "outputs": [
    {
     "data": {
      "text/plain": [
       "2736.3597288232954"
      ]
     },
     "execution_count": 20,
     "metadata": {},
     "output_type": "execute_result"
    }
   ],
   "source": [
    "mean_squared_error(Y_test, Y_pred)"
   ]
  },
  {
   "cell_type": "code",
   "execution_count": 31,
   "metadata": {},
   "outputs": [
    {
     "data": {
      "text/plain": [
       "array([ 1,  2,  3,  4,  5,  6,  7,  8,  9, 10])"
      ]
     },
     "execution_count": 31,
     "metadata": {},
     "output_type": "execute_result"
    }
   ],
   "source": [
    "epochs = np.arange(1, 11)\n",
    "epochs"
   ]
  },
  {
   "cell_type": "code",
   "execution_count": 58,
   "metadata": {},
   "outputs": [],
   "source": [
    "n_alphas = 100\n",
    "alphas = np.linspace(0, 0.5, n_alphas)\n",
    "COEF = []\n",
    "for a in alphas:\n",
    "    Ridge = linear_model.Ridge(alpha = a)\n",
    "    Ridge.fit(X_train, Y_train)\n",
    "    COEF.append(Ridge.coef_)"
   ]
  },
  {
   "cell_type": "code",
   "execution_count": 59,
   "metadata": {},
   "outputs": [
    {
     "data": {
      "text/plain": [
       "array([0.        , 0.00505051, 0.01010101, 0.01515152, 0.02020202,\n",
       "       0.02525253, 0.03030303, 0.03535354, 0.04040404, 0.04545455,\n",
       "       0.05050505, 0.05555556, 0.06060606, 0.06565657, 0.07070707,\n",
       "       0.07575758, 0.08080808, 0.08585859, 0.09090909, 0.0959596 ,\n",
       "       0.1010101 , 0.10606061, 0.11111111, 0.11616162, 0.12121212,\n",
       "       0.12626263, 0.13131313, 0.13636364, 0.14141414, 0.14646465,\n",
       "       0.15151515, 0.15656566, 0.16161616, 0.16666667, 0.17171717,\n",
       "       0.17676768, 0.18181818, 0.18686869, 0.19191919, 0.1969697 ,\n",
       "       0.2020202 , 0.20707071, 0.21212121, 0.21717172, 0.22222222,\n",
       "       0.22727273, 0.23232323, 0.23737374, 0.24242424, 0.24747475,\n",
       "       0.25252525, 0.25757576, 0.26262626, 0.26767677, 0.27272727,\n",
       "       0.27777778, 0.28282828, 0.28787879, 0.29292929, 0.2979798 ,\n",
       "       0.3030303 , 0.30808081, 0.31313131, 0.31818182, 0.32323232,\n",
       "       0.32828283, 0.33333333, 0.33838384, 0.34343434, 0.34848485,\n",
       "       0.35353535, 0.35858586, 0.36363636, 0.36868687, 0.37373737,\n",
       "       0.37878788, 0.38383838, 0.38888889, 0.39393939, 0.3989899 ,\n",
       "       0.4040404 , 0.40909091, 0.41414141, 0.41919192, 0.42424242,\n",
       "       0.42929293, 0.43434343, 0.43939394, 0.44444444, 0.44949495,\n",
       "       0.45454545, 0.45959596, 0.46464646, 0.46969697, 0.47474747,\n",
       "       0.47979798, 0.48484848, 0.48989899, 0.49494949, 0.5       ])"
      ]
     },
     "execution_count": 59,
     "metadata": {},
     "output_type": "execute_result"
    }
   ],
   "source": [
    "alphas"
   ]
  },
  {
   "cell_type": "code",
   "execution_count": 60,
   "metadata": {},
   "outputs": [
    {
     "data": {
      "text/plain": [
       "[<matplotlib.lines.Line2D at 0x2294bce7ef0>,\n",
       " <matplotlib.lines.Line2D at 0x2294bc3b0b8>,\n",
       " <matplotlib.lines.Line2D at 0x2294bc3b208>,\n",
       " <matplotlib.lines.Line2D at 0x2294bc3b358>,\n",
       " <matplotlib.lines.Line2D at 0x2294bc3b4a8>,\n",
       " <matplotlib.lines.Line2D at 0x2294bc3b5f8>,\n",
       " <matplotlib.lines.Line2D at 0x2294bc3b748>,\n",
       " <matplotlib.lines.Line2D at 0x2294bc3b898>,\n",
       " <matplotlib.lines.Line2D at 0x2294bc3b9e8>,\n",
       " <matplotlib.lines.Line2D at 0x2294bc3bb38>]"
      ]
     },
     "execution_count": 60,
     "metadata": {},
     "output_type": "execute_result"
    },
    {
     "data": {
      "image/png": "[encoded data removed]",
      "text/plain": [
       "<Figure size 432x288 with 1 Axes>"
      ]
     },
     "metadata": {
      "needs_background": "light"
     },
     "output_type": "display_data"
    }
   ],
   "source": [
    "ax = plt.gca()\n",
    "ax.plot(alphas, COEF)"
   ]
  },
  {
   "cell_type": "code",
   "execution_count": null,
   "metadata": {},
   "outputs": [],
   "source": []
  }
 ],
 "metadata": {
  "kernelspec": {
   "display_name": "Python 3",
   "language": "python",
   "name": "python3"
  },
  "language_info": {
   "codemirror_mode": {
    "name": "ipython",
    "version": 3
   },
   "file_extension": ".py",
   "mimetype": "text/x-python",
   "name": "python",
   "nbconvert_exporter": "python",
   "pygments_lexer": "ipython3",
   "version": "3.7.3"
  }
 },
 "nbformat": 4,
 "nbformat_minor": 2
}
