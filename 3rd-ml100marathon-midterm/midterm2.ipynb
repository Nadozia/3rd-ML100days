{
 "cells": [
  {
   "cell_type": "code",
   "execution_count": 458,
   "metadata": {},
   "outputs": [],
   "source": [
    "import pandas as pd\n",
    "import numpy as np\n",
    "import matplotlib.pyplot as plt\n",
    "\n",
    "from sklearn.model_selection import train_test_split, cross_val_score, GridSearchCV, StratifiedShuffleSplit\n",
    "from sklearn.metrics import accuracy_score, precision_score, recall_score, f1_score, make_scorer, roc_auc_score\n",
    "from sklearn.preprocessing import MinMaxScaler\n",
    "from sklearn.feature_selection import SelectKBest, f_classif\n",
    "from sklearn.pipeline import Pipeline\n",
    "\n",
    "\n",
    "from sklearn.neighbors import KNeighborsClassifier\n",
    "from sklearn.naive_bayes import GaussianNB\n",
    "from sklearn.tree import DecisionTreeClassifier\n",
    "from sklearn.ensemble import RandomForestClassifier, AdaBoostClassifier"
   ]
  },
  {
   "cell_type": "code",
   "execution_count": 459,
   "metadata": {},
   "outputs": [],
   "source": [
    "pd.options.display.max_seq_items = 2000"
   ]
  },
  {
   "cell_type": "code",
   "execution_count": 460,
   "metadata": {},
   "outputs": [],
   "source": [
    "df = pd.read_csv('train_data.csv')\n",
    "df.set_index(['name'], inplace = True)\n",
    "df.drop(['email_address'], axis = 1, inplace = True)"
   ]
  },
  {
   "cell_type": "code",
   "execution_count": 461,
   "metadata": {},
   "outputs": [],
   "source": [
    "#Replace NaNs\n",
    "fin_features = ['salary', 'deferral_payments', 'total_payments', \\\n",
    "                'loan_advances', 'bonus', 'restricted_stock_deferred', \\\n",
    "                'deferred_income', 'total_stock_value', 'expenses', \\\n",
    "                'exercised_stock_options', 'other', 'long_term_incentive', \\\n",
    "                'restricted_stock', 'director_fees']\n",
    "\n",
    "email_features = ['to_messages', 'from_poi_to_this_person', \\\n",
    "                  'from_messages', 'from_this_person_to_poi', 'shared_receipt_with_poi'\\\n",
    "                  , 'from_poi_frac','to_poi_frac']"
   ]
  },
  {
   "cell_type": "code",
   "execution_count": 523,
   "metadata": {},
   "outputs": [],
   "source": [
    "def replace_Nans(data):\n",
    "    for i in fin_features:\n",
    "        data[i] = data[i].fillna(0)\n",
    "    for i in email_features:\n",
    "        data[i] = data[i].fillna(data[i].median())\n",
    "    return data\n",
    "\n",
    "def MinMax(data):\n",
    "    for i in data.columns:\n",
    "        if data[i].dtype =='float64':\n",
    "            MM = MinMaxScaler()\n",
    "            data[i] = MM.fit_transform(data[i].values.reshape(-1,1))\n",
    "    return data"
   ]
  },
  {
   "cell_type": "markdown",
   "metadata": {},
   "source": [
    "LAY KENNETH L is a poi so not removing (ie. loan advance, total payments, dicector_fees, exercised_stock_options, other, restricted_stock, total_stock_value)"
   ]
  },
  {
   "cell_type": "code",
   "execution_count": 508,
   "metadata": {},
   "outputs": [
    {
     "ename": "KeyError",
     "evalue": "\"['THE TRAVEL AGENCY IN THE PARK'] not found in axis\"",
     "output_type": "error",
     "traceback": [
      "\u001b[1;31m---------------------------------------------------------------------------\u001b[0m",
      "\u001b[1;31mKeyError\u001b[0m                                  Traceback (most recent call last)",
      "\u001b[1;32m<ipython-input-508-859fb0b4a9c0>\u001b[0m in \u001b[0;36m<module>\u001b[1;34m\u001b[0m\n\u001b[1;32m----> 1\u001b[1;33m \u001b[0mdf\u001b[0m\u001b[1;33m.\u001b[0m\u001b[0mdrop\u001b[0m\u001b[1;33m(\u001b[0m\u001b[1;33m[\u001b[0m\u001b[1;34m'THE TRAVEL AGENCY IN THE PARK'\u001b[0m\u001b[1;33m]\u001b[0m\u001b[1;33m,\u001b[0m \u001b[0maxis\u001b[0m \u001b[1;33m=\u001b[0m\u001b[1;36m0\u001b[0m\u001b[1;33m,\u001b[0m \u001b[0minplace\u001b[0m \u001b[1;33m=\u001b[0m \u001b[1;32mTrue\u001b[0m\u001b[1;33m)\u001b[0m\u001b[1;33m\u001b[0m\u001b[1;33m\u001b[0m\u001b[0m\n\u001b[0m",
      "\u001b[1;32m~\\Anaconda3\\lib\\site-packages\\pandas\\core\\frame.py\u001b[0m in \u001b[0;36mdrop\u001b[1;34m(self, labels, axis, index, columns, level, inplace, errors)\u001b[0m\n\u001b[0;32m   4100\u001b[0m             \u001b[0mlevel\u001b[0m\u001b[1;33m=\u001b[0m\u001b[0mlevel\u001b[0m\u001b[1;33m,\u001b[0m\u001b[1;33m\u001b[0m\u001b[1;33m\u001b[0m\u001b[0m\n\u001b[0;32m   4101\u001b[0m             \u001b[0minplace\u001b[0m\u001b[1;33m=\u001b[0m\u001b[0minplace\u001b[0m\u001b[1;33m,\u001b[0m\u001b[1;33m\u001b[0m\u001b[1;33m\u001b[0m\u001b[0m\n\u001b[1;32m-> 4102\u001b[1;33m             \u001b[0merrors\u001b[0m\u001b[1;33m=\u001b[0m\u001b[0merrors\u001b[0m\u001b[1;33m,\u001b[0m\u001b[1;33m\u001b[0m\u001b[1;33m\u001b[0m\u001b[0m\n\u001b[0m\u001b[0;32m   4103\u001b[0m         )\n\u001b[0;32m   4104\u001b[0m \u001b[1;33m\u001b[0m\u001b[0m\n",
      "\u001b[1;32m~\\Anaconda3\\lib\\site-packages\\pandas\\core\\generic.py\u001b[0m in \u001b[0;36mdrop\u001b[1;34m(self, labels, axis, index, columns, level, inplace, errors)\u001b[0m\n\u001b[0;32m   3912\u001b[0m         \u001b[1;32mfor\u001b[0m \u001b[0maxis\u001b[0m\u001b[1;33m,\u001b[0m \u001b[0mlabels\u001b[0m \u001b[1;32min\u001b[0m \u001b[0maxes\u001b[0m\u001b[1;33m.\u001b[0m\u001b[0mitems\u001b[0m\u001b[1;33m(\u001b[0m\u001b[1;33m)\u001b[0m\u001b[1;33m:\u001b[0m\u001b[1;33m\u001b[0m\u001b[1;33m\u001b[0m\u001b[0m\n\u001b[0;32m   3913\u001b[0m             \u001b[1;32mif\u001b[0m \u001b[0mlabels\u001b[0m \u001b[1;32mis\u001b[0m \u001b[1;32mnot\u001b[0m \u001b[1;32mNone\u001b[0m\u001b[1;33m:\u001b[0m\u001b[1;33m\u001b[0m\u001b[1;33m\u001b[0m\u001b[0m\n\u001b[1;32m-> 3914\u001b[1;33m                 \u001b[0mobj\u001b[0m \u001b[1;33m=\u001b[0m \u001b[0mobj\u001b[0m\u001b[1;33m.\u001b[0m\u001b[0m_drop_axis\u001b[0m\u001b[1;33m(\u001b[0m\u001b[0mlabels\u001b[0m\u001b[1;33m,\u001b[0m \u001b[0maxis\u001b[0m\u001b[1;33m,\u001b[0m \u001b[0mlevel\u001b[0m\u001b[1;33m=\u001b[0m\u001b[0mlevel\u001b[0m\u001b[1;33m,\u001b[0m \u001b[0merrors\u001b[0m\u001b[1;33m=\u001b[0m\u001b[0merrors\u001b[0m\u001b[1;33m)\u001b[0m\u001b[1;33m\u001b[0m\u001b[1;33m\u001b[0m\u001b[0m\n\u001b[0m\u001b[0;32m   3915\u001b[0m \u001b[1;33m\u001b[0m\u001b[0m\n\u001b[0;32m   3916\u001b[0m         \u001b[1;32mif\u001b[0m \u001b[0minplace\u001b[0m\u001b[1;33m:\u001b[0m\u001b[1;33m\u001b[0m\u001b[1;33m\u001b[0m\u001b[0m\n",
      "\u001b[1;32m~\\Anaconda3\\lib\\site-packages\\pandas\\core\\generic.py\u001b[0m in \u001b[0;36m_drop_axis\u001b[1;34m(self, labels, axis, level, errors)\u001b[0m\n\u001b[0;32m   3944\u001b[0m                 \u001b[0mnew_axis\u001b[0m \u001b[1;33m=\u001b[0m \u001b[0maxis\u001b[0m\u001b[1;33m.\u001b[0m\u001b[0mdrop\u001b[0m\u001b[1;33m(\u001b[0m\u001b[0mlabels\u001b[0m\u001b[1;33m,\u001b[0m \u001b[0mlevel\u001b[0m\u001b[1;33m=\u001b[0m\u001b[0mlevel\u001b[0m\u001b[1;33m,\u001b[0m \u001b[0merrors\u001b[0m\u001b[1;33m=\u001b[0m\u001b[0merrors\u001b[0m\u001b[1;33m)\u001b[0m\u001b[1;33m\u001b[0m\u001b[1;33m\u001b[0m\u001b[0m\n\u001b[0;32m   3945\u001b[0m             \u001b[1;32melse\u001b[0m\u001b[1;33m:\u001b[0m\u001b[1;33m\u001b[0m\u001b[1;33m\u001b[0m\u001b[0m\n\u001b[1;32m-> 3946\u001b[1;33m                 \u001b[0mnew_axis\u001b[0m \u001b[1;33m=\u001b[0m \u001b[0maxis\u001b[0m\u001b[1;33m.\u001b[0m\u001b[0mdrop\u001b[0m\u001b[1;33m(\u001b[0m\u001b[0mlabels\u001b[0m\u001b[1;33m,\u001b[0m \u001b[0merrors\u001b[0m\u001b[1;33m=\u001b[0m\u001b[0merrors\u001b[0m\u001b[1;33m)\u001b[0m\u001b[1;33m\u001b[0m\u001b[1;33m\u001b[0m\u001b[0m\n\u001b[0m\u001b[0;32m   3947\u001b[0m             \u001b[0mresult\u001b[0m \u001b[1;33m=\u001b[0m \u001b[0mself\u001b[0m\u001b[1;33m.\u001b[0m\u001b[0mreindex\u001b[0m\u001b[1;33m(\u001b[0m\u001b[1;33m**\u001b[0m\u001b[1;33m{\u001b[0m\u001b[0maxis_name\u001b[0m\u001b[1;33m:\u001b[0m \u001b[0mnew_axis\u001b[0m\u001b[1;33m}\u001b[0m\u001b[1;33m)\u001b[0m\u001b[1;33m\u001b[0m\u001b[1;33m\u001b[0m\u001b[0m\n\u001b[0;32m   3948\u001b[0m \u001b[1;33m\u001b[0m\u001b[0m\n",
      "\u001b[1;32m~\\Anaconda3\\lib\\site-packages\\pandas\\core\\indexes\\base.py\u001b[0m in \u001b[0;36mdrop\u001b[1;34m(self, labels, errors)\u001b[0m\n\u001b[0;32m   5338\u001b[0m         \u001b[1;32mif\u001b[0m \u001b[0mmask\u001b[0m\u001b[1;33m.\u001b[0m\u001b[0many\u001b[0m\u001b[1;33m(\u001b[0m\u001b[1;33m)\u001b[0m\u001b[1;33m:\u001b[0m\u001b[1;33m\u001b[0m\u001b[1;33m\u001b[0m\u001b[0m\n\u001b[0;32m   5339\u001b[0m             \u001b[1;32mif\u001b[0m \u001b[0merrors\u001b[0m \u001b[1;33m!=\u001b[0m \u001b[1;34m\"ignore\"\u001b[0m\u001b[1;33m:\u001b[0m\u001b[1;33m\u001b[0m\u001b[1;33m\u001b[0m\u001b[0m\n\u001b[1;32m-> 5340\u001b[1;33m                 \u001b[1;32mraise\u001b[0m \u001b[0mKeyError\u001b[0m\u001b[1;33m(\u001b[0m\u001b[1;34m\"{} not found in axis\"\u001b[0m\u001b[1;33m.\u001b[0m\u001b[0mformat\u001b[0m\u001b[1;33m(\u001b[0m\u001b[0mlabels\u001b[0m\u001b[1;33m[\u001b[0m\u001b[0mmask\u001b[0m\u001b[1;33m]\u001b[0m\u001b[1;33m)\u001b[0m\u001b[1;33m)\u001b[0m\u001b[1;33m\u001b[0m\u001b[1;33m\u001b[0m\u001b[0m\n\u001b[0m\u001b[0;32m   5341\u001b[0m             \u001b[0mindexer\u001b[0m \u001b[1;33m=\u001b[0m \u001b[0mindexer\u001b[0m\u001b[1;33m[\u001b[0m\u001b[1;33m~\u001b[0m\u001b[0mmask\u001b[0m\u001b[1;33m]\u001b[0m\u001b[1;33m\u001b[0m\u001b[1;33m\u001b[0m\u001b[0m\n\u001b[0;32m   5342\u001b[0m         \u001b[1;32mreturn\u001b[0m \u001b[0mself\u001b[0m\u001b[1;33m.\u001b[0m\u001b[0mdelete\u001b[0m\u001b[1;33m(\u001b[0m\u001b[0mindexer\u001b[0m\u001b[1;33m)\u001b[0m\u001b[1;33m\u001b[0m\u001b[1;33m\u001b[0m\u001b[0m\n",
      "\u001b[1;31mKeyError\u001b[0m: \"['THE TRAVEL AGENCY IN THE PARK'] not found in axis\""
     ]
    }
   ],
   "source": [
    "df.drop(['THE TRAVEL AGENCY IN THE PARK'], axis =0, inplace = True)"
   ]
  },
  {
   "cell_type": "code",
   "execution_count": 524,
   "metadata": {},
   "outputs": [
    {
     "data": {
      "text/html": [
       "<div>\n",
       "<style scoped>\n",
       "    .dataframe tbody tr th:only-of-type {\n",
       "        vertical-align: middle;\n",
       "    }\n",
       "\n",
       "    .dataframe tbody tr th {\n",
       "        vertical-align: top;\n",
       "    }\n",
       "\n",
       "    .dataframe thead th {\n",
       "        text-align: right;\n",
       "    }\n",
       "</style>\n",
       "<table border=\"1\" class=\"dataframe\">\n",
       "  <thead>\n",
       "    <tr style=\"text-align: right;\">\n",
       "      <th></th>\n",
       "      <th>bonus</th>\n",
       "      <th>deferral_payments</th>\n",
       "      <th>deferred_income</th>\n",
       "      <th>director_fees</th>\n",
       "      <th>exercised_stock_options</th>\n",
       "      <th>expenses</th>\n",
       "      <th>from_messages</th>\n",
       "      <th>from_poi_to_this_person</th>\n",
       "      <th>from_this_person_to_poi</th>\n",
       "      <th>loan_advances</th>\n",
       "      <th>...</th>\n",
       "      <th>other</th>\n",
       "      <th>restricted_stock</th>\n",
       "      <th>restricted_stock_deferred</th>\n",
       "      <th>salary</th>\n",
       "      <th>shared_receipt_with_poi</th>\n",
       "      <th>to_messages</th>\n",
       "      <th>total_payments</th>\n",
       "      <th>total_stock_value</th>\n",
       "      <th>from_poi_frac</th>\n",
       "      <th>to_poi_frac</th>\n",
       "    </tr>\n",
       "    <tr>\n",
       "      <th>name</th>\n",
       "      <th></th>\n",
       "      <th></th>\n",
       "      <th></th>\n",
       "      <th></th>\n",
       "      <th></th>\n",
       "      <th></th>\n",
       "      <th></th>\n",
       "      <th></th>\n",
       "      <th></th>\n",
       "      <th></th>\n",
       "      <th></th>\n",
       "      <th></th>\n",
       "      <th></th>\n",
       "      <th></th>\n",
       "      <th></th>\n",
       "      <th></th>\n",
       "      <th></th>\n",
       "      <th></th>\n",
       "      <th></th>\n",
       "      <th></th>\n",
       "      <th></th>\n",
       "    </tr>\n",
       "  </thead>\n",
       "  <tbody>\n",
       "    <tr>\n",
       "      <td>RICE KENNETH D</td>\n",
       "      <td>0.21875</td>\n",
       "      <td>0.03342</td>\n",
       "      <td>0.000000</td>\n",
       "      <td>0.0</td>\n",
       "      <td>0.576277</td>\n",
       "      <td>0.205234</td>\n",
       "      <td>0.000418</td>\n",
       "      <td>0.079545</td>\n",
       "      <td>0.009732</td>\n",
       "      <td>0.0</td>\n",
       "      <td>...</td>\n",
       "      <td>0.016877</td>\n",
       "      <td>0.186182</td>\n",
       "      <td>0.927036</td>\n",
       "      <td>0.378522</td>\n",
       "      <td>0.190497</td>\n",
       "      <td>0.056189</td>\n",
       "      <td>0.004877</td>\n",
       "      <td>0.459506</td>\n",
       "      <td>0.288138</td>\n",
       "      <td>0.222222</td>\n",
       "    </tr>\n",
       "    <tr>\n",
       "      <td>SKILLING JEFFREY K</td>\n",
       "      <td>0.70000</td>\n",
       "      <td>0.03342</td>\n",
       "      <td>1.000000</td>\n",
       "      <td>0.0</td>\n",
       "      <td>0.560434</td>\n",
       "      <td>0.128238</td>\n",
       "      <td>0.006687</td>\n",
       "      <td>0.166667</td>\n",
       "      <td>0.072993</td>\n",
       "      <td>0.0</td>\n",
       "      <td>...</td>\n",
       "      <td>0.002135</td>\n",
       "      <td>0.463610</td>\n",
       "      <td>0.927036</td>\n",
       "      <td>1.000000</td>\n",
       "      <td>0.450829</td>\n",
       "      <td>0.236549</td>\n",
       "      <td>0.083843</td>\n",
       "      <td>0.531751</td>\n",
       "      <td>0.150638</td>\n",
       "      <td>0.277778</td>\n",
       "    </tr>\n",
       "    <tr>\n",
       "      <td>SHELBY REX</td>\n",
       "      <td>0.02500</td>\n",
       "      <td>0.03342</td>\n",
       "      <td>0.998811</td>\n",
       "      <td>0.0</td>\n",
       "      <td>0.047292</td>\n",
       "      <td>0.100034</td>\n",
       "      <td>0.001881</td>\n",
       "      <td>0.024621</td>\n",
       "      <td>0.034063</td>\n",
       "      <td>0.0</td>\n",
       "      <td>...</td>\n",
       "      <td>0.151869</td>\n",
       "      <td>0.058883</td>\n",
       "      <td>0.927036</td>\n",
       "      <td>0.190634</td>\n",
       "      <td>0.019669</td>\n",
       "      <td>0.011132</td>\n",
       "      <td>0.019350</td>\n",
       "      <td>0.051628</td>\n",
       "      <td>0.358725</td>\n",
       "      <td>0.358974</td>\n",
       "    </tr>\n",
       "    <tr>\n",
       "      <td>KOPPER MICHAEL J</td>\n",
       "      <td>0.10000</td>\n",
       "      <td>0.03342</td>\n",
       "      <td>1.000000</td>\n",
       "      <td>0.0</td>\n",
       "      <td>0.000000</td>\n",
       "      <td>0.516403</td>\n",
       "      <td>0.002299</td>\n",
       "      <td>0.053030</td>\n",
       "      <td>0.017032</td>\n",
       "      <td>0.0</td>\n",
       "      <td>...</td>\n",
       "      <td>0.087599</td>\n",
       "      <td>0.066729</td>\n",
       "      <td>0.927036</td>\n",
       "      <td>0.201848</td>\n",
       "      <td>0.131934</td>\n",
       "      <td>0.068314</td>\n",
       "      <td>0.025614</td>\n",
       "      <td>0.020937</td>\n",
       "      <td>0.157299</td>\n",
       "      <td>0.070751</td>\n",
       "    </tr>\n",
       "    <tr>\n",
       "      <td>CALGER CHRISTOPHER F</td>\n",
       "      <td>0.15625</td>\n",
       "      <td>0.03342</td>\n",
       "      <td>0.925094</td>\n",
       "      <td>0.0</td>\n",
       "      <td>0.000000</td>\n",
       "      <td>0.156573</td>\n",
       "      <td>0.009195</td>\n",
       "      <td>0.376894</td>\n",
       "      <td>0.060827</td>\n",
       "      <td>0.0</td>\n",
       "      <td>...</td>\n",
       "      <td>0.000047</td>\n",
       "      <td>0.008537</td>\n",
       "      <td>0.927036</td>\n",
       "      <td>0.216142</td>\n",
       "      <td>0.483094</td>\n",
       "      <td>0.168367</td>\n",
       "      <td>0.015829</td>\n",
       "      <td>0.003461</td>\n",
       "      <td>0.475570</td>\n",
       "      <td>0.173611</td>\n",
       "    </tr>\n",
       "  </tbody>\n",
       "</table>\n",
       "<p>5 rows × 21 columns</p>\n",
       "</div>"
      ],
      "text/plain": [
       "                        bonus  deferral_payments  deferred_income  \\\n",
       "name                                                                \n",
       "RICE KENNETH D        0.21875            0.03342         0.000000   \n",
       "SKILLING JEFFREY K    0.70000            0.03342         1.000000   \n",
       "SHELBY REX            0.02500            0.03342         0.998811   \n",
       "KOPPER MICHAEL J      0.10000            0.03342         1.000000   \n",
       "CALGER CHRISTOPHER F  0.15625            0.03342         0.925094   \n",
       "\n",
       "                      director_fees  exercised_stock_options  expenses  \\\n",
       "name                                                                     \n",
       "RICE KENNETH D                  0.0                 0.576277  0.205234   \n",
       "SKILLING JEFFREY K              0.0                 0.560434  0.128238   \n",
       "SHELBY REX                      0.0                 0.047292  0.100034   \n",
       "KOPPER MICHAEL J                0.0                 0.000000  0.516403   \n",
       "CALGER CHRISTOPHER F            0.0                 0.000000  0.156573   \n",
       "\n",
       "                      from_messages  from_poi_to_this_person  \\\n",
       "name                                                           \n",
       "RICE KENNETH D             0.000418                 0.079545   \n",
       "SKILLING JEFFREY K         0.006687                 0.166667   \n",
       "SHELBY REX                 0.001881                 0.024621   \n",
       "KOPPER MICHAEL J           0.002299                 0.053030   \n",
       "CALGER CHRISTOPHER F       0.009195                 0.376894   \n",
       "\n",
       "                      from_this_person_to_poi  loan_advances  ...     other  \\\n",
       "name                                                          ...             \n",
       "RICE KENNETH D                       0.009732            0.0  ...  0.016877   \n",
       "SKILLING JEFFREY K                   0.072993            0.0  ...  0.002135   \n",
       "SHELBY REX                           0.034063            0.0  ...  0.151869   \n",
       "KOPPER MICHAEL J                     0.017032            0.0  ...  0.087599   \n",
       "CALGER CHRISTOPHER F                 0.060827            0.0  ...  0.000047   \n",
       "\n",
       "                      restricted_stock  restricted_stock_deferred    salary  \\\n",
       "name                                                                          \n",
       "RICE KENNETH D                0.186182                   0.927036  0.378522   \n",
       "SKILLING JEFFREY K            0.463610                   0.927036  1.000000   \n",
       "SHELBY REX                    0.058883                   0.927036  0.190634   \n",
       "KOPPER MICHAEL J              0.066729                   0.927036  0.201848   \n",
       "CALGER CHRISTOPHER F          0.008537                   0.927036  0.216142   \n",
       "\n",
       "                      shared_receipt_with_poi  to_messages  total_payments  \\\n",
       "name                                                                         \n",
       "RICE KENNETH D                       0.190497     0.056189        0.004877   \n",
       "SKILLING JEFFREY K                   0.450829     0.236549        0.083843   \n",
       "SHELBY REX                           0.019669     0.011132        0.019350   \n",
       "KOPPER MICHAEL J                     0.131934     0.068314        0.025614   \n",
       "CALGER CHRISTOPHER F                 0.483094     0.168367        0.015829   \n",
       "\n",
       "                      total_stock_value  from_poi_frac  to_poi_frac  \n",
       "name                                                                 \n",
       "RICE KENNETH D                 0.459506       0.288138     0.222222  \n",
       "SKILLING JEFFREY K             0.531751       0.150638     0.277778  \n",
       "SHELBY REX                     0.051628       0.358725     0.358974  \n",
       "KOPPER MICHAEL J               0.020937       0.157299     0.070751  \n",
       "CALGER CHRISTOPHER F           0.003461       0.475570     0.173611  \n",
       "\n",
       "[5 rows x 21 columns]"
      ]
     },
     "execution_count": 524,
     "metadata": {},
     "output_type": "execute_result"
    }
   ],
   "source": [
    "target = df['poi']\n",
    "data = df.drop(['poi'], axis = 1)\n",
    "\n",
    "data['from_poi_frac'] = data['from_poi_to_this_person']/data['to_messages']\n",
    "data['to_poi_frac'] = data['from_this_person_to_poi']/data['from_messages']\n",
    "\n",
    "data = replace_Nans(data)\n",
    "data = MinMax(data)\n",
    "data.head()"
   ]
  },
  {
   "cell_type": "code",
   "execution_count": 558,
   "metadata": {},
   "outputs": [],
   "source": [
    "X_train, X_valid, Y_train, Y_valid = train_test_split(data, target, test_size = 0.3, random_state=42)"
   ]
  },
  {
   "cell_type": "code",
   "execution_count": 559,
   "metadata": {},
   "outputs": [
    {
     "name": "stdout",
     "output_type": "stream",
     "text": [
      "acc: 0.7647058823529411\n",
      "precision: 0.25\n",
      "recall: 0.16666666666666666\n"
     ]
    },
    {
     "data": {
      "text/plain": [
       "<BarContainer object of 21 artists>"
      ]
     },
     "execution_count": 559,
     "metadata": {},
     "output_type": "execute_result"
    },
    {
     "data": {
      "image/png": "[encoded data removed]",
      "text/plain": [
       "<Figure size 432x288 with 1 Axes>"
      ]
     },
     "metadata": {
      "needs_background": "light"
     },
     "output_type": "display_data"
    }
   ],
   "source": [
    "DT = DecisionTreeClassifier(max_depth = 5, random_state=42)\n",
    "DT.fit(X_train, Y_train)\n",
    "DT_pred = DT.predict(X_valid)\n",
    "\n",
    "acc = accuracy_score(Y_valid, DT_pred)\n",
    "precision = precision_score(Y_valid, DT_pred)\n",
    "recall = recall_score(Y_valid, DT_pred)\n",
    "print(  f'acc: {acc}\\nprecision: {precision}\\nrecall: {recall}')\n",
    "plt.barh(X_train.columns, DT.feature_importances_)"
   ]
  },
  {
   "cell_type": "code",
   "execution_count": 560,
   "metadata": {},
   "outputs": [],
   "source": [
    "def feature_performance(features):\n",
    "    X_train, X_valid, Y_train, Y_valid = train_test_split(data[features], target, test_size = 0.3, random_state=42)\n",
    "    DT = DecisionTreeClassifier(random_state=5)\n",
    "    DT.fit(X_train, Y_train)\n",
    "    DT_pred = DT.predict(X_valid)\n",
    "\n",
    "    acc = accuracy_score(Y_valid, DT_pred)\n",
    "    precision = precision_score(Y_valid, DT_pred)\n",
    "    recall = recall_score(Y_valid, DT_pred)\n",
    "    f1 = f1_score(Y_valid, DT_pred)\n",
    "    print(  f'acc: {acc}\\nprecision: {precision}\\nrecall: {recall}\\nf1 :{f1}')"
   ]
  },
  {
   "cell_type": "code",
   "execution_count": 561,
   "metadata": {},
   "outputs": [],
   "source": [
    "DT_features = ['exercised_stock_options', 'expenses', 'bonus','from_poi_to_this_person','other','to_poi_frac']"
   ]
  },
  {
   "cell_type": "code",
   "execution_count": 562,
   "metadata": {
    "scrolled": true
   },
   "outputs": [
    {
     "name": "stdout",
     "output_type": "stream",
     "text": [
      "acc: 0.7647058823529411\n",
      "precision: 0.25\n",
      "recall: 0.16666666666666666\n",
      "f1 :0.2\n"
     ]
    }
   ],
   "source": [
    "feature_performance(DT_features)"
   ]
  },
  {
   "cell_type": "code",
   "execution_count": 563,
   "metadata": {},
   "outputs": [
    {
     "name": "stdout",
     "output_type": "stream",
     "text": [
      "acc: 0.8235294117647058\n",
      "precision: 0.5\n",
      "recall: 0.16666666666666666\n",
      "f1 :0.25\n"
     ]
    },
    {
     "name": "stderr",
     "output_type": "stream",
     "text": [
      "C:\\Users\\Wong Kam Pui\\Anaconda3\\lib\\site-packages\\sklearn\\ensemble\\forest.py:245: FutureWarning: The default value of n_estimators will change from 10 in version 0.20 to 100 in 0.22.\n",
      "  \"10 in version 0.20 to 100 in 0.22.\", FutureWarning)\n"
     ]
    },
    {
     "data": {
      "text/plain": [
       "<BarContainer object of 21 artists>"
      ]
     },
     "execution_count": 563,
     "metadata": {},
     "output_type": "execute_result"
    },
    {
     "data": {
      "image/png": "[encoded data removed]",
      "text/plain": [
       "<Figure size 432x288 with 1 Axes>"
      ]
     },
     "metadata": {
      "needs_background": "light"
     },
     "output_type": "display_data"
    }
   ],
   "source": [
    "RF = RandomForestClassifier()\n",
    "RF.fit(X_train, Y_train)\n",
    "RF_pred = RF.predict(X_valid)\n",
    "\n",
    "acc = accuracy_score(Y_valid, RF_pred)\n",
    "precision = precision_score(Y_valid, RF_pred)\n",
    "recall = recall_score(Y_valid, RF_pred)\n",
    "f1 = f1_score(Y_valid, RF_pred)\n",
    "print(  f'acc: {acc}\\nprecision: {precision}\\nrecall: {recall}\\nf1 :{f1}')\n",
    "plt.barh(X_train.columns, RF.feature_importances_)"
   ]
  },
  {
   "cell_type": "code",
   "execution_count": 550,
   "metadata": {},
   "outputs": [],
   "source": [
    "RF_feature1 = ['bonus', 'deferral_payments',\n",
    "       'exercised_stock_options', 'expenses', 'from_messages',\n",
    "       'from_poi_to_this_person', 'from_this_person_to_poi',\n",
    "       'long_term_incentive', 'other', 'restricted_stock', 'salary', 'shared_receipt_with_poi',\n",
    "       'to_messages', 'total_payments', 'total_stock_value', 'from_poi_frac',\n",
    "       'to_poi_frac']"
   ]
  },
  {
   "cell_type": "code",
   "execution_count": 551,
   "metadata": {},
   "outputs": [
    {
     "name": "stdout",
     "output_type": "stream",
     "text": [
      "acc: 0.7352941176470589\n",
      "precision: 0.2\n",
      "recall: 0.16666666666666666\n",
      "f1 :0.1818181818181818\n"
     ]
    }
   ],
   "source": [
    "feature_performance(RF_feature1)"
   ]
  },
  {
   "cell_type": "markdown",
   "metadata": {},
   "source": [
    "DT_feature looks slightly better"
   ]
  },
  {
   "cell_type": "code",
   "execution_count": 552,
   "metadata": {},
   "outputs": [],
   "source": [
    "RF_feature2 = ['total_stock_value', 'exercised_stock_options', 'other', 'expenses',\n",
    "       'restricted_stock', 'salary', 'to_messages', 'from_poi_frac', 'to_poi_frac',\n",
    "       'deferred_income', 'from_poi_to_this_person']"
   ]
  },
  {
   "cell_type": "code",
   "execution_count": 553,
   "metadata": {},
   "outputs": [
    {
     "name": "stdout",
     "output_type": "stream",
     "text": [
      "acc: 0.7352941176470589\n",
      "precision: 0.2\n",
      "recall: 0.16666666666666666\n",
      "f1 :0.1818181818181818\n"
     ]
    }
   ],
   "source": [
    "feature_performance(RF_feature2)"
   ]
  },
  {
   "cell_type": "code",
   "execution_count": 554,
   "metadata": {},
   "outputs": [],
   "source": [
    "SK = SelectKBest(f_classif, k = 'all')\n",
    "SK.fit(X_train, Y_train)\n",
    "SK_importance = pd.Series(SK.scores_, index= X_train.columns)"
   ]
  },
  {
   "cell_type": "code",
   "execution_count": 567,
   "metadata": {},
   "outputs": [],
   "source": [
    "SK_features = SK_importance.nlargest(7).index"
   ]
  },
  {
   "cell_type": "code",
   "execution_count": 568,
   "metadata": {},
   "outputs": [
    {
     "data": {
      "text/plain": [
       "Index(['exercised_stock_options', 'total_stock_value', 'other', 'salary',\n",
       "       'restricted_stock', 'total_payments'],\n",
       "      dtype='object')"
      ]
     },
     "execution_count": 568,
     "metadata": {},
     "output_type": "execute_result"
    }
   ],
   "source": [
    "SK_features"
   ]
  },
  {
   "cell_type": "code",
   "execution_count": 569,
   "metadata": {
    "scrolled": true
   },
   "outputs": [
    {
     "name": "stdout",
     "output_type": "stream",
     "text": [
      "acc: 0.7352941176470589\n",
      "precision: 0.2\n",
      "recall: 0.16666666666666666\n",
      "f1 :0.1818181818181818\n"
     ]
    }
   ],
   "source": [
    "feature_performance(SK_features)"
   ]
  },
  {
   "cell_type": "code",
   "execution_count": 542,
   "metadata": {},
   "outputs": [],
   "source": [
    "features = ['exercised_stock_options','total_stock_value','other','expenses','deferred_income','bonus']\n",
    "features2 = ['exercised_stock_options','total_stock_value','other','expenses']"
   ]
  },
  {
   "cell_type": "code",
   "execution_count": 543,
   "metadata": {},
   "outputs": [
    {
     "name": "stdout",
     "output_type": "stream",
     "text": [
      "acc: 0.7647058823529411\n",
      "precision: 0.3333333333333333\n",
      "recall: 0.3333333333333333\n",
      "f1 :0.3333333333333333\n"
     ]
    }
   ],
   "source": [
    "feature_performance(features)"
   ]
  },
  {
   "cell_type": "code",
   "execution_count": 544,
   "metadata": {},
   "outputs": [
    {
     "name": "stdout",
     "output_type": "stream",
     "text": [
      "acc: 0.7352941176470589\n",
      "precision: 0.2\n",
      "recall: 0.16666666666666666\n",
      "f1 :0.1818181818181818\n"
     ]
    }
   ],
   "source": [
    "feature_performance(features2)"
   ]
  },
  {
   "cell_type": "code",
   "execution_count": 539,
   "metadata": {},
   "outputs": [],
   "source": [
    "X_train, X_valid, Y_train, Y_valid = train_test_split(data[SK_features], target, test_size = 0.3, random_state=42)"
   ]
  },
  {
   "cell_type": "code",
   "execution_count": 533,
   "metadata": {},
   "outputs": [],
   "source": [
    "KNN = KNeighborsClassifier()\n",
    "RF = RandomForestClassifier(random_state = 42)\n",
    "DT = DecisionTreeClassifier(random_state = 42)\n",
    "NB = GaussianNB()\n",
    "Ada = AdaBoostClassifier()\n",
    "\n",
    "models = [KNN, RF, DT, NB, Ada]"
   ]
  },
  {
   "cell_type": "code",
   "execution_count": 534,
   "metadata": {},
   "outputs": [],
   "source": [
    "def model_performance(model): \n",
    "    model.fit(X_train, Y_train)\n",
    "    pred = model.predict(X_valid)\n",
    "    print(str(model))\n",
    "    print(f'acc: {accuracy_score(Y_valid, pred)}')\n",
    "    print(f'pre: {precision_score(Y_valid, pred)}')\n",
    "    print(f'rec: {recall_score(Y_valid, pred)}')\n",
    "    print(f'f1s: {f1_score(Y_valid, pred)}')"
   ]
  },
  {
   "cell_type": "code",
   "execution_count": 535,
   "metadata": {},
   "outputs": [
    {
     "name": "stdout",
     "output_type": "stream",
     "text": [
      "KNeighborsClassifier(algorithm='auto', leaf_size=30, metric='minkowski',\n",
      "                     metric_params=None, n_jobs=None, n_neighbors=5, p=2,\n",
      "                     weights='uniform')\n",
      "acc: 0.8235294117647058\n",
      "pre: 0.0\n",
      "rec: 0.0\n",
      "f1s: 0.0\n",
      "RandomForestClassifier(bootstrap=True, class_weight=None, criterion='gini',\n",
      "                       max_depth=None, max_features='auto', max_leaf_nodes=None,\n",
      "                       min_impurity_decrease=0.0, min_impurity_split=None,\n",
      "                       min_samples_leaf=1, min_samples_split=2,\n",
      "                       min_weight_fraction_leaf=0.0, n_estimators=10,\n",
      "                       n_jobs=None, oob_score=False, random_state=42, verbose=0,\n",
      "                       warm_start=False)\n",
      "acc: 0.8235294117647058\n",
      "pre: 0.5\n",
      "rec: 0.16666666666666666\n",
      "f1s: 0.25\n",
      "DecisionTreeClassifier(class_weight=None, criterion='gini', max_depth=None,\n",
      "                       max_features=None, max_leaf_nodes=None,\n",
      "                       min_impurity_decrease=0.0, min_impurity_split=None,\n",
      "                       min_samples_leaf=1, min_samples_split=2,\n",
      "                       min_weight_fraction_leaf=0.0, presort=False,\n",
      "                       random_state=42, splitter='best')\n",
      "acc: 0.7941176470588235\n",
      "pre: 0.4\n",
      "rec: 0.3333333333333333\n",
      "f1s: 0.3636363636363636\n",
      "GaussianNB(priors=None, var_smoothing=1e-09)\n",
      "acc: 0.7941176470588235\n",
      "pre: 0.3333333333333333\n",
      "rec: 0.16666666666666666\n",
      "f1s: 0.2222222222222222\n",
      "AdaBoostClassifier(algorithm='SAMME.R', base_estimator=None, learning_rate=1.0,\n",
      "                   n_estimators=50, random_state=None)\n",
      "acc: 0.7941176470588235\n",
      "pre: 0.3333333333333333\n",
      "rec: 0.16666666666666666\n",
      "f1s: 0.2222222222222222\n"
     ]
    },
    {
     "name": "stderr",
     "output_type": "stream",
     "text": [
      "C:\\Users\\Wong Kam Pui\\Anaconda3\\lib\\site-packages\\sklearn\\metrics\\classification.py:1437: UndefinedMetricWarning: Precision is ill-defined and being set to 0.0 due to no predicted samples.\n",
      "  'precision', 'predicted', average, warn_for)\n",
      "C:\\Users\\Wong Kam Pui\\Anaconda3\\lib\\site-packages\\sklearn\\metrics\\classification.py:1437: UndefinedMetricWarning: F-score is ill-defined and being set to 0.0 due to no predicted samples.\n",
      "  'precision', 'predicted', average, warn_for)\n",
      "C:\\Users\\Wong Kam Pui\\Anaconda3\\lib\\site-packages\\sklearn\\ensemble\\forest.py:245: FutureWarning: The default value of n_estimators will change from 10 in version 0.20 to 100 in 0.22.\n",
      "  \"10 in version 0.20 to 100 in 0.22.\", FutureWarning)\n"
     ]
    }
   ],
   "source": [
    "for model in models:\n",
    "    model_performance(model)\n"
   ]
  },
  {
   "cell_type": "code",
   "execution_count": 439,
   "metadata": {},
   "outputs": [],
   "source": [
    "recall_scorer = make_scorer(recall_score)\n",
    "auc_scorer = make_scorer(roc_auc_score)"
   ]
  },
  {
   "cell_type": "code",
   "execution_count": 440,
   "metadata": {},
   "outputs": [],
   "source": [
    "def auc_score(model):\n",
    "    model.fit(X_train, Y_train)\n",
    "    pred = model.predict(X_valid)\n",
    "    print(f'cross_valid_score = {roc_auc_score(Y_valid, pred)}')"
   ]
  },
  {
   "cell_type": "code",
   "execution_count": 441,
   "metadata": {},
   "outputs": [
    {
     "name": "stdout",
     "output_type": "stream",
     "text": [
      "cross_valid_score = 0.5\n",
      "cross_valid_score = 0.5654761904761905\n",
      "cross_valid_score = 0.6130952380952381\n",
      "cross_valid_score = 0.5476190476190477\n",
      "cross_valid_score = 0.5476190476190477\n"
     ]
    }
   ],
   "source": [
    "for model in models:\n",
    "    auc_score(model)"
   ]
  },
  {
   "cell_type": "markdown",
   "metadata": {},
   "source": [
    "# Decision Tree and AdaBoost looks good"
   ]
  },
  {
   "cell_type": "code",
   "execution_count": 442,
   "metadata": {},
   "outputs": [],
   "source": [
    "def tunning(model, params):\n",
    "    Grid = GridSearchCV(model, params, scoring= auc_scorer, cv = 3)\n",
    "    model = Grid.fit(X_train, Y_train)\n",
    "    model = model.best_estimator_\n",
    "    return model"
   ]
  },
  {
   "cell_type": "code",
   "execution_count": 443,
   "metadata": {},
   "outputs": [],
   "source": [
    "DT = DecisionTreeClassifier(random_state = 42)\n",
    "Ada = AdaBoostClassifier()\n",
    "models = [DT, Ada]"
   ]
  },
  {
   "cell_type": "code",
   "execution_count": 444,
   "metadata": {},
   "outputs": [],
   "source": [
    "DT_para = {'criterion': ['gini', 'entropy'],\n",
    "           'max_depth': [None, 1, 2, 5, 10],\n",
    "           'min_samples_split': [2, 3, 4, 5],\n",
    "           'min_samples_leaf': [1, 2, 3, 4, 5, 6, 7, 8]}\n",
    "Ada_para = {'n_estimators': [5,10,20,50,100,200],\n",
    "            'learning_rate': [0.1, 0.2, 0.4, 0.5, 1],\n",
    "            'algorithm': ['SAMME', 'SAMME.R']}\n",
    "param_list = [DT_para, Ada_para]"
   ]
  },
  {
   "cell_type": "code",
   "execution_count": 445,
   "metadata": {},
   "outputs": [
    {
     "name": "stderr",
     "output_type": "stream",
     "text": [
      "C:\\Users\\Wong Kam Pui\\Anaconda3\\lib\\site-packages\\sklearn\\model_selection\\_search.py:814: DeprecationWarning: The default of the `iid` parameter will change from True to False in version 0.22 and will be removed in 0.24. This will change numeric results when test-set sizes are unequal.\n",
      "  DeprecationWarning)\n"
     ]
    }
   ],
   "source": [
    "DT = tunning(DT, DT_para)"
   ]
  },
  {
   "cell_type": "code",
   "execution_count": 446,
   "metadata": {},
   "outputs": [
    {
     "data": {
      "text/plain": [
       "DecisionTreeClassifier(class_weight=None, criterion='gini', max_depth=None,\n",
       "                       max_features=None, max_leaf_nodes=None,\n",
       "                       min_impurity_decrease=0.0, min_impurity_split=None,\n",
       "                       min_samples_leaf=1, min_samples_split=2,\n",
       "                       min_weight_fraction_leaf=0.0, presort=False,\n",
       "                       random_state=42, splitter='best')"
      ]
     },
     "execution_count": 446,
     "metadata": {},
     "output_type": "execute_result"
    }
   ],
   "source": [
    "DT"
   ]
  },
  {
   "cell_type": "code",
   "execution_count": 447,
   "metadata": {},
   "outputs": [
    {
     "name": "stderr",
     "output_type": "stream",
     "text": [
      "C:\\Users\\Wong Kam Pui\\Anaconda3\\lib\\site-packages\\sklearn\\model_selection\\_search.py:814: DeprecationWarning: The default of the `iid` parameter will change from True to False in version 0.22 and will be removed in 0.24. This will change numeric results when test-set sizes are unequal.\n",
      "  DeprecationWarning)\n"
     ]
    }
   ],
   "source": [
    "Ada = tunning(Ada, Ada_para)"
   ]
  },
  {
   "cell_type": "code",
   "execution_count": 448,
   "metadata": {},
   "outputs": [
    {
     "data": {
      "text/plain": [
       "AdaBoostClassifier(algorithm='SAMME.R', base_estimator=None, learning_rate=1,\n",
       "                   n_estimators=5, random_state=None)"
      ]
     },
     "execution_count": 448,
     "metadata": {},
     "output_type": "execute_result"
    }
   ],
   "source": [
    "Ada"
   ]
  },
  {
   "cell_type": "code",
   "execution_count": 449,
   "metadata": {},
   "outputs": [
    {
     "name": "stdout",
     "output_type": "stream",
     "text": [
      "accuracies =  0.7941176470588235\n",
      "precision =  0.4\n",
      "recall =  0.3333333333333333\n",
      "----------------------------\n"
     ]
    }
   ],
   "source": [
    "DT_pred = DT.predict(X_valid)\n",
    "print('accuracies = ', accuracy_score(Y_valid, DT_pred))\n",
    "print('precision = ', precision_score(Y_valid, DT_pred))\n",
    "print('recall = ', recall_score(Y_valid, DT_pred))\n",
    "print('----------------------------')"
   ]
  },
  {
   "cell_type": "code",
   "execution_count": 450,
   "metadata": {},
   "outputs": [
    {
     "name": "stdout",
     "output_type": "stream",
     "text": [
      "accuracies =  0.8235294117647058\n",
      "precision =  0.5\n",
      "recall =  0.16666666666666666\n",
      "----------------------------\n"
     ]
    }
   ],
   "source": [
    "Ada_pred = Ada.predict(X_valid)\n",
    "print('accuracies = ', accuracy_score(Y_valid, Ada_pred))\n",
    "print('precision = ', precision_score(Y_valid, Ada_pred))\n",
    "print('recall = ', recall_score(Y_valid, Ada_pred))\n",
    "print('----------------------------')"
   ]
  },
  {
   "cell_type": "code",
   "execution_count": 454,
   "metadata": {},
   "outputs": [
    {
     "data": {
      "text/plain": [
       "0.6792929292929294"
      ]
     },
     "execution_count": 454,
     "metadata": {},
     "output_type": "execute_result"
    }
   ],
   "source": [
    "cross_val_score(DT, X_valid, Y_valid, cv = 3).mean()"
   ]
  },
  {
   "cell_type": "code",
   "execution_count": 455,
   "metadata": {},
   "outputs": [
    {
     "data": {
      "text/plain": [
       "0.73989898989899"
      ]
     },
     "execution_count": 455,
     "metadata": {},
     "output_type": "execute_result"
    }
   ],
   "source": [
    "cross_val_score(Ada, X_valid, Y_valid, cv=3).mean()"
   ]
  },
  {
   "cell_type": "code",
   "execution_count": 456,
   "metadata": {},
   "outputs": [
    {
     "data": {
      "text/plain": [
       "KNeighborsClassifier(algorithm='auto', leaf_size=1, metric='minkowski',\n",
       "                     metric_params=None, n_jobs=None, n_neighbors=5, p=1,\n",
       "                     weights='uniform')"
      ]
     },
     "execution_count": 456,
     "metadata": {},
     "output_type": "execute_result"
    }
   ],
   "source": [
    "KNN = KNeighborsClassifier(n_neighbors=5, weights='uniform', leaf_size=1, algorithm= 'auto', p= 1)\n",
    "KNN.fit(X_train, Y_train)"
   ]
  },
  {
   "cell_type": "code",
   "execution_count": 457,
   "metadata": {},
   "outputs": [
    {
     "name": "stdout",
     "output_type": "stream",
     "text": [
      "accuracies =  0.8529411764705882\n",
      "precision =  1.0\n",
      "recall =  0.16666666666666666\n",
      "----------------------------\n"
     ]
    }
   ],
   "source": [
    "KNN_pred = KNN.predict(X_valid)\n",
    "print('accuracies = ', accuracy_score(Y_valid, KNN_pred))\n",
    "print('precision = ', precision_score(Y_valid, KNN_pred))\n",
    "print('recall = ', recall_score(Y_valid, KNN_pred))\n",
    "print('----------------------------')"
   ]
  },
  {
   "cell_type": "code",
   "execution_count": 341,
   "metadata": {},
   "outputs": [
    {
     "data": {
      "text/plain": [
       "array([0.83333333, 0.83333333, 0.9       ])"
      ]
     },
     "execution_count": 341,
     "metadata": {},
     "output_type": "execute_result"
    }
   ],
   "source": [
    "cross_val_score(KNN, X_valid, Y_valid, cv=3)"
   ]
  },
  {
   "cell_type": "code",
   "execution_count": 338,
   "metadata": {
    "scrolled": true
   },
   "outputs": [],
   "source": [
    "final = pd.read_csv('test_features.csv')\n",
    "final = final.set_index(['name'])\n",
    "\n",
    "final['from_poi_frac'] = final['from_poi_to_this_person']/final['to_messages']\n",
    "final['to_poi_frac'] = final['from_this_person_to_poi']/final['from_messages']\n",
    "\n",
    "final = replace_Nans(final)\n",
    "final = MinMax(final)\n",
    "\n",
    "test_X = final[DT_features]\n"
   ]
  },
  {
   "cell_type": "code",
   "execution_count": 339,
   "metadata": {},
   "outputs": [
    {
     "data": {
      "text/plain": [
       "(33, 6)"
      ]
     },
     "execution_count": 339,
     "metadata": {},
     "output_type": "execute_result"
    }
   ],
   "source": [
    "test_X.shape"
   ]
  },
  {
   "cell_type": "code",
   "execution_count": 340,
   "metadata": {},
   "outputs": [],
   "source": [
    "test_Y = KNN.predict_proba(test_X)\n",
    "final['poi'] = test_Y[:,0]\n",
    "output = final['poi']\n",
    "output = pd.DataFrame(output)\n",
    "output.to_csv('prediction.csv')"
   ]
  },
  {
   "cell_type": "code",
   "execution_count": null,
   "metadata": {},
   "outputs": [],
   "source": []
  }
 ],
 "metadata": {
  "kernelspec": {
   "display_name": "Python 3",
   "language": "python",
   "name": "python3"
  },
  "language_info": {
   "codemirror_mode": {
    "name": "ipython",
    "version": 3
   },
   "file_extension": ".py",
   "mimetype": "text/x-python",
   "name": "python",
   "nbconvert_exporter": "python",
   "pygments_lexer": "ipython3",
   "version": "3.7.3"
  }
 },
 "nbformat": 4,
 "nbformat_minor": 2
}
